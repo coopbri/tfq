{
 "cells": [
  {
   "cell_type": "code",
   "execution_count": 24,
   "metadata": {},
   "outputs": [],
   "source": [
    "import tensorflow as tf\n",
    "import tensorflow_quantum as tfq\n",
    "\n",
    "import cirq\n",
    "import sympy as sp\n",
    "import numpy as np\n",
    "\n",
    "# visualization tools\n",
    "%matplotlib inline\n",
    "import matplotlib.pyplot as plt\n",
    "from cirq.contrib.svg import SVGCircuit"
   ]
  },
  {
   "cell_type": "markdown",
   "metadata": {},
   "source": [
    "## Basic Parameterized Quantum Circuit"
   ]
  },
  {
   "cell_type": "code",
   "execution_count": 25,
   "metadata": {},
   "outputs": [],
   "source": [
    "a, b = sp.symbols('a b')"
   ]
  },
  {
   "cell_type": "code",
   "execution_count": 26,
   "metadata": {},
   "outputs": [
    {
     "data": {
      "image/svg+xml": [
       "<svg xmlns=\"http://www.w3.org/2000/svg\" width=\"227.108125\" height=\"100.0\"><line x1=\"32.246796875\" x2=\"197.108125\" y1=\"25.0\" y2=\"25.0\" stroke=\"#1967d2\" stroke-width=\"1\" /><line x1=\"32.246796875\" x2=\"197.108125\" y1=\"75.0\" y2=\"75.0\" stroke=\"#1967d2\" stroke-width=\"1\" /><line x1=\"157.108125\" x2=\"157.108125\" y1=\"25.0\" y2=\"75.0\" stroke=\"black\" stroke-width=\"3\" /><rect x=\"10.0\" y=\"5.0\" width=\"44.49359375\" height=\"40\" stroke=\"black\" fill=\"white\" stroke-width=\"0\" /><text x=\"32.246796875\" y=\"25.0\" dominant-baseline=\"middle\" text-anchor=\"middle\" font-size=\"14px\">(0, 0): </text><rect x=\"10.0\" y=\"55.0\" width=\"44.49359375\" height=\"40\" stroke=\"black\" fill=\"white\" stroke-width=\"0\" /><text x=\"32.246796875\" y=\"75.0\" dominant-baseline=\"middle\" text-anchor=\"middle\" font-size=\"14px\">(0, 1): </text><rect x=\"74.49359375\" y=\"5.0\" width=\"42.61453125\" height=\"40\" stroke=\"black\" fill=\"white\" stroke-width=\"1\" /><text x=\"95.800859375\" y=\"25.0\" dominant-baseline=\"middle\" text-anchor=\"middle\" font-size=\"14px\">Rx(a)</text><rect x=\"74.49359375\" y=\"55.0\" width=\"42.61453125\" height=\"40\" stroke=\"black\" fill=\"white\" stroke-width=\"1\" /><text x=\"95.800859375\" y=\"75.0\" dominant-baseline=\"middle\" text-anchor=\"middle\" font-size=\"14px\">Ry(b)</text><circle cx=\"157.108125\" cy=\"25.0\" r=\"10.0\" /><rect x=\"137.108125\" y=\"55.0\" width=\"40\" height=\"40\" stroke=\"black\" fill=\"white\" stroke-width=\"1\" /><text x=\"157.108125\" y=\"75.0\" dominant-baseline=\"middle\" text-anchor=\"middle\" font-size=\"18px\">X</text></svg>"
      ],
      "text/plain": [
       "<cirq.contrib.svg.svg.SVGCircuit at 0x7ff9e446fc18>"
      ]
     },
     "execution_count": 26,
     "metadata": {},
     "output_type": "execute_result"
    }
   ],
   "source": [
    "# Create two qubits\n",
    "q0, q1 = cirq.GridQubit.rect(1, 2)\n",
    "\n",
    "# Create circuit on these qubits using params `a` and `b`\n",
    "circuit = cirq.Circuit(\n",
    "    cirq.rx(a).on(q0),\n",
    "    cirq.ry(b).on(q1), cirq.CNOT(control=q0, target=q1)\n",
    ")\n",
    "\n",
    "SVGCircuit(circuit)"
   ]
  },
  {
   "cell_type": "markdown",
   "metadata": {},
   "source": [
    "## Circuit Evaluation"
   ]
  },
  {
   "cell_type": "code",
   "execution_count": 27,
   "metadata": {},
   "outputs": [
    {
     "data": {
      "text/plain": [
       "array([ 0.9387913 +0.j        , -0.23971277+0.j        ,\n",
       "        0.        +0.06120872j,  0.        -0.23971277j], dtype=complex64)"
      ]
     },
     "execution_count": 27,
     "metadata": {},
     "output_type": "execute_result"
    }
   ],
   "source": [
    "# Calculate a state vector with a=0.5, b=-0.5\n",
    "resolver = cirq.ParamResolver({a: 0.5, b: -0.5})\n",
    "\n",
    "output_state_vector = cirq.Simulator().simulate(circuit, resolver).final_state\n",
    "output_state_vector"
   ]
  },
  {
   "cell_type": "markdown",
   "metadata": {},
   "source": [
    "### Pauli $\\hat Z_0$ Measurement on State Vector"
   ]
  },
  {
   "cell_type": "code",
   "execution_count": 28,
   "metadata": {},
   "outputs": [
    {
     "data": {
      "text/plain": [
       "0.8775825500488281"
      ]
     },
     "execution_count": 28,
     "metadata": {},
     "output_type": "execute_result"
    }
   ],
   "source": [
    "z0 = cirq.Z(q0)\n",
    "\n",
    "qubit_map = {q0: 0, q1: 1}\n",
    "\n",
    "z0.expectation_from_wavefunction(output_state_vector, qubit_map).real"
   ]
  },
  {
   "cell_type": "markdown",
   "metadata": {},
   "source": [
    "### Pauli $\\frac{1}{2} \\hat Z_0 + \\hat X_1$ Measurement on State Vector"
   ]
  },
  {
   "cell_type": "code",
   "execution_count": 29,
   "metadata": {},
   "outputs": [
    {
     "data": {
      "text/plain": [
       "-0.04063427448272705"
      ]
     },
     "execution_count": 29,
     "metadata": {},
     "output_type": "execute_result"
    }
   ],
   "source": [
    "z0x1 = 0.5 * z0 + cirq.X(q1)\n",
    "\n",
    "z0x1.expectation_from_wavefunction(output_state_vector, qubit_map).real"
   ]
  },
  {
   "cell_type": "code",
   "execution_count": 30,
   "metadata": {},
   "outputs": [
    {
     "name": "stdout",
     "output_type": "stream",
     "text": [
      "(1,)\n",
      "<dtype: 'string'>\n"
     ]
    }
   ],
   "source": [
    "# Rank 1 tensor containing 1 circuit\n",
    "circuit_tensor = tfq.convert_to_tensor([circuit])\n",
    "\n",
    "print(circuit_tensor.shape)\n",
    "print(circuit_tensor.dtype)"
   ]
  },
  {
   "cell_type": "code",
   "execution_count": 31,
   "metadata": {},
   "outputs": [
    {
     "data": {
      "text/plain": [
       "TensorShape([2])"
      ]
     },
     "execution_count": 31,
     "metadata": {},
     "output_type": "execute_result"
    }
   ],
   "source": [
    "# Rank 1 tensor containing 2 Pauli operators\n",
    "pauli_tensor = tfq.convert_to_tensor([z0, z0x1])\n",
    "pauli_tensor.shape"
   ]
  },
  {
   "cell_type": "code",
   "execution_count": 32,
   "metadata": {},
   "outputs": [
    {
     "name": "stdout",
     "output_type": "stream",
     "text": [
      "cirq batch results: \n",
      " [[ 0.40864956]\n",
      " [-0.84766239]\n",
      " [ 0.41367596]\n",
      " [ 0.69389665]\n",
      " [ 0.76356912]]\n"
     ]
    }
   ],
   "source": [
    "# batch of values to sub for `a` and `b` parameters\n",
    "batch_vals = np.array(np.random.uniform(0, 2 * np.pi, (5, 2)), dtype=np.float32)\n",
    "\n",
    "cirq_results = []\n",
    "cirq_simulator = cirq.Simulator()\n",
    "\n",
    "for val in batch_vals:\n",
    "    resolver = cirq.ParamResolver({a: val[0], b: val[1]})\n",
    "    final_state = cirq_simulator.simulate(circuit, resolver).final_state\n",
    "    cirq_results.append(\n",
    "        [z0.expectation_from_wavefunction(final_state, {\n",
    "            q0: 0,\n",
    "            q1: 1\n",
    "        }).real])\n",
    "    \n",
    "print('cirq batch results: \\n {}'.format(np.array(cirq_results)))"
   ]
  },
  {
   "cell_type": "markdown",
   "metadata": {},
   "source": [
    "# Hybrid Neural Network"
   ]
  },
  {
   "cell_type": "markdown",
   "metadata": {},
   "source": [
    "## Controlled Circuit"
   ]
  },
  {
   "cell_type": "code",
   "execution_count": 33,
   "metadata": {},
   "outputs": [
    {
     "data": {
      "image/svg+xml": [
       "<svg xmlns=\"http://www.w3.org/2000/svg\" width=\"409.108671875\" height=\"50.0\"><line x1=\"32.246796875\" x2=\"379.108671875\" y1=\"25.0\" y2=\"25.0\" stroke=\"#1967d2\" stroke-width=\"1\" /><rect x=\"10.0\" y=\"5.0\" width=\"44.49359375\" height=\"40\" stroke=\"black\" fill=\"white\" stroke-width=\"0\" /><text x=\"32.246796875\" y=\"25.0\" dominant-baseline=\"middle\" text-anchor=\"middle\" font-size=\"14px\">(0, 0): </text><rect x=\"74.49359375\" y=\"5.0\" width=\"81.538359375\" height=\"40\" stroke=\"black\" fill=\"white\" stroke-width=\"1\" /><text x=\"115.2627734375\" y=\"25.0\" dominant-baseline=\"middle\" text-anchor=\"middle\" font-size=\"14px\">Rz(theta_1)</text><rect x=\"176.03195312499997\" y=\"5.0\" width=\"81.538359375\" height=\"40\" stroke=\"black\" fill=\"white\" stroke-width=\"1\" /><text x=\"216.8011328125\" y=\"25.0\" dominant-baseline=\"middle\" text-anchor=\"middle\" font-size=\"14px\">Ry(theta_2)</text><rect x=\"277.5703125\" y=\"5.0\" width=\"81.538359375\" height=\"40\" stroke=\"black\" fill=\"white\" stroke-width=\"1\" /><text x=\"318.3394921875\" y=\"25.0\" dominant-baseline=\"middle\" text-anchor=\"middle\" font-size=\"14px\">Rx(theta_3)</text></svg>"
      ],
      "text/plain": [
       "<cirq.contrib.svg.svg.SVGCircuit at 0x7ff9e440c0b8>"
      ]
     },
     "execution_count": 33,
     "metadata": {},
     "output_type": "execute_result"
    }
   ],
   "source": [
    "# Parameters that the classical Nn will feed values into\n",
    "control_params = sp.symbols('theta_1 theta_2 theta_3')\n",
    "\n",
    "# Create parameterized circuit\n",
    "qubit = cirq.GridQubit(0, 0)\n",
    "\n",
    "model_circuit = cirq.Circuit(\n",
    "    cirq.rz(control_params[0])(qubit),\n",
    "    cirq.ry(control_params[1])(qubit),\n",
    "    cirq.rx(control_params[2])(qubit)\n",
    ")\n",
    "\n",
    "SVGCircuit(model_circuit)"
   ]
  },
  {
   "cell_type": "markdown",
   "metadata": {},
   "source": [
    "## Controller"
   ]
  },
  {
   "cell_type": "code",
   "execution_count": 34,
   "metadata": {},
   "outputs": [
    {
     "data": {
      "text/plain": [
       "array([[ 0.        ,  0.        ,  0.        ],\n",
       "       [-0.52638555,  1.0509732 , -0.26381436]], dtype=float32)"
      ]
     },
     "execution_count": 34,
     "metadata": {},
     "output_type": "execute_result"
    }
   ],
   "source": [
    "# Classical neural network layers\n",
    "controller = tf.keras.Sequential([\n",
    "    tf.keras.layers.Dense(10, activation='elu'),\n",
    "    tf.keras.layers.Dense(3)\n",
    "])\n",
    "\n",
    "controller(tf.constant([[0.0],[1.0]])).numpy()"
   ]
  },
  {
   "cell_type": "markdown",
   "metadata": {},
   "source": [
    "## Controller-Circuit Connection"
   ]
  },
  {
   "cell_type": "code",
   "execution_count": 35,
   "metadata": {},
   "outputs": [],
   "source": [
    "# Simulated miscalibration that model will learn to correct\n",
    "circuits_input = tf.keras.Input(shape=(),\n",
    "                                # The circuit-tensor has dtype `tf.string` \n",
    "                                dtype=tf.string,\n",
    "                                name='circuits_input')\n",
    "\n",
    "# Set qubits' state to `0` or `1` based on command\n",
    "commands_input = tf.keras.Input(shape=(1,),\n",
    "                                dtype=tf.dtypes.float32,\n",
    "                                name='commands_input')"
   ]
  },
  {
   "cell_type": "markdown",
   "metadata": {},
   "source": [
    "Apply operations to above inputs to define the computation:"
   ]
  },
  {
   "cell_type": "code",
   "execution_count": 36,
   "metadata": {},
   "outputs": [],
   "source": [
    "dense_2 = controller(commands_input)\n",
    "\n",
    "# TFQ layer for classically controlled circuits\n",
    "expectation_layer = tfq.layers.ControlledPQC(model_circuit,\n",
    "                                             # Observe Z\n",
    "                                             operators = cirq.Z(qubit))\n",
    "expectation = expectation_layer([circuits_input, dense_2])"
   ]
  },
  {
   "cell_type": "markdown",
   "metadata": {},
   "source": [
    "Package computation as Keras model:"
   ]
  },
  {
   "cell_type": "code",
   "execution_count": 37,
   "metadata": {},
   "outputs": [],
   "source": [
    "model = tf.keras.Model(inputs=[circuits_input, commands_input],\n",
    "                       outputs=expectation)"
   ]
  },
  {
   "cell_type": "code",
   "execution_count": 38,
   "metadata": {},
   "outputs": [
    {
     "data": {
      "image/png": "[encoded data removed]",
      "text/plain": [
       "<IPython.core.display.Image object>"
      ]
     },
     "execution_count": 38,
     "metadata": {},
     "output_type": "execute_result"
    }
   ],
   "source": [
    "tf.keras.utils.plot_model(model, show_shapes=True, dpi=70)"
   ]
  },
  {
   "cell_type": "code",
   "execution_count": 39,
   "metadata": {},
   "outputs": [],
   "source": [
    "# Command input values to the classical NN\n",
    "commands = np.array([[0], [1]], dtype=np.float32)\n",
    "\n",
    "# Desired Z expectation value at output of quantum circuit\n",
    "expected_outputs = np.array([[1], [-1]], dtype=np.float32)"
   ]
  },
  {
   "cell_type": "code",
   "execution_count": 40,
   "metadata": {},
   "outputs": [
    {
     "data": {
      "text/plain": [
       "array([[0.6260606 ],\n",
       "       [0.56155056]], dtype=float32)"
      ]
     },
     "execution_count": 40,
     "metadata": {},
     "output_type": "execute_result"
    }
   ],
   "source": [
    "# Input circuit that defines random miscalibration the model will learn to correct\n",
    "random_rotations = np.random.uniform(0, 2 * np.pi, 3)\n",
    "noisy_preparation = cirq.Circuit(\n",
    "  cirq.rx(random_rotations[0])(qubit),\n",
    "  cirq.ry(random_rotations[1])(qubit),\n",
    "  cirq.rz(random_rotations[2])(qubit)\n",
    ")\n",
    "datapoint_circuits = tfq.convert_to_tensor([\n",
    "  noisy_preparation\n",
    "] * 2)  # Make two copied of this circuit\n",
    "\n",
    "# datapoint_circuits.shape # 2 copies of circuit; 1 copy for each datapoint\n",
    "\n",
    "# Dry run of tfq model\n",
    "model([datapoint_circuits, commands]).numpy()"
   ]
  },
  {
   "cell_type": "code",
   "execution_count": 41,
   "metadata": {},
   "outputs": [
    {
     "data": {
      "image/png": "[encoded data removed]",
      "text/plain": [
       "<Figure size 432x288 with 1 Axes>"
      ]
     },
     "metadata": {
      "needs_background": "light"
     },
     "output_type": "display_data"
    }
   ],
   "source": [
    "# Run training process to adjust output values towards `expected_outputs`\n",
    "optimizer = tf.keras.optimizers.Adam(learning_rate=0.05)\n",
    "loss = tf.keras.losses.MeanSquaredError()\n",
    "model.compile(optimizer=optimizer, loss=loss)\n",
    "history = model.fit(x=[datapoint_circuits, commands],\n",
    "                    y=expected_outputs,\n",
    "                    epochs=30,\n",
    "                    verbose=0)\n",
    "\n",
    "# Plot training information\n",
    "plt.plot(history.history['loss'])\n",
    "plt.title(\"Learning to Control a Qubit\")\n",
    "plt.xlabel(\"Iterations\")\n",
    "plt.ylabel(\"Error in Control\")\n",
    "plt.show()"
   ]
  },
  {
   "cell_type": "markdown",
   "metadata": {},
   "source": [
    "## Verify Outputs"
   ]
  },
  {
   "cell_type": "markdown",
   "metadata": {},
   "source": [
    "Use the trained model to correct the qubit calibration errors."
   ]
  },
  {
   "cell_type": "code",
   "execution_count": 44,
   "metadata": {},
   "outputs": [
    {
     "name": "stdout",
     "output_type": "stream",
     "text": [
      "For a desired output (expectation) of [1.] with noisy preparation, the controller\n",
      "network found the following values for theta: [ 0.0254344  -0.88573796 -0.6036245 ]\n",
      "Which gives an actual expectation of: 0.9438512325286865\n",
      "\n",
      "For a desired output (expectation) of [-1.] with noisy preparation, the controller\n",
      "network found the following values for theta: [0.9268755  2.6368454  0.11764073]\n",
      "Which gives an actual expectation of: -0.9295072555541992\n",
      "\n"
     ]
    }
   ],
   "source": [
    "def check_error(command_values, desired_values):\n",
    "  \"\"\"Based on the value in `command_value` see how well you could prepare\n",
    "  the full circuit to have `desired_value` when taking expectation w.r.t. Z.\"\"\"\n",
    "  params_to_prepare_output = controller(command_values).numpy()\n",
    "  full_circuit = noisy_preparation + model_circuit\n",
    "\n",
    "  # Test how well you can prepare a state to get the expectation\n",
    "  # value in `desired_values`\n",
    "  for index in [0, 1]:\n",
    "    state = cirq_simulator.simulate(\n",
    "        full_circuit,\n",
    "        {s:v for (s,v) in zip(control_params, params_to_prepare_output[index])}\n",
    "    ).final_state\n",
    "    expectation = z0.expectation_from_wavefunction(state, {qubit: 0}).real\n",
    "    print(f'For a desired output (expectation) of {desired_values[index]} with'\n",
    "          f' noisy preparation, the controller\\nnetwork found the following '\n",
    "          f'values for theta: {params_to_prepare_output[index]}\\nWhich gives an'\n",
    "          f' actual expectation of: {expectation}\\n')\n",
    "\n",
    "\n",
    "check_error(commands, expected_outputs)"
   ]
  }
 ],
 "metadata": {
  "kernelspec": {
   "display_name": "venv",
   "language": "python",
   "name": "venv"
  },
  "language_info": {
   "codemirror_mode": {
    "name": "ipython",
    "version": 3
   },
   "file_extension": ".py",
   "mimetype": "text/x-python",
   "name": "python",
   "nbconvert_exporter": "python",
   "pygments_lexer": "ipython3",
   "version": "3.7.2"
  }
 },
 "nbformat": 4,
 "nbformat_minor": 4
}
